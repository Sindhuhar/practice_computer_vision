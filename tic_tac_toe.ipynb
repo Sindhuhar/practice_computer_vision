{
  "nbformat": 4,
  "nbformat_minor": 0,
  "metadata": {
    "colab": {
      "provenance": [],
      "authorship_tag": "ABX9TyPimeBRMI+vUzhgLZp1aMd1",
      "include_colab_link": true
    },
    "kernelspec": {
      "name": "python3",
      "display_name": "Python 3"
    },
    "language_info": {
      "name": "python"
    },
    "accelerator": "TPU"
  },
  "cells": [
    {
      "cell_type": "markdown",
      "metadata": {
        "id": "view-in-github",
        "colab_type": "text"
      },
      "source": [
        "<a href=\"https://colab.research.google.com/github/Sindhuhar/practice_computer_vision/blob/main/tic_tac_toe.ipynb\" target=\"_parent\"><img src=\"https://colab.research.google.com/assets/colab-badge.svg\" alt=\"Open In Colab\"/></a>"
      ]
    },
    {
      "cell_type": "markdown",
      "source": [
        "#Building a Tic-Tac-Toe Game in Python"
      ],
      "metadata": {
        "id": "yU-IAEWIDbZX"
      }
    },
    {
      "cell_type": "markdown",
      "source": [
        "**###What is Tic-Tac-Toe?**\n",
        "\n",
        "Tic-Tac-Toe, also known as Noughts and Crosses, is a classic two-player game played on a 3×3 grid. Players take turns marking cells with their respective symbols (‘X’ or ‘O’) in an attempt to form a line of three of their symbols horizontally, vertically, or diagonally."
      ],
      "metadata": {
        "id": "sR_32DD4Cf2C"
      }
    },
    {
      "cell_type": "code",
      "execution_count": 2,
      "metadata": {
        "colab": {
          "base_uri": "https://localhost:8080/"
        },
        "id": "Mq4cVtC-9rtA",
        "outputId": "70085cbe-ad49-4ce9-de7d-2017d4fa9216"
      },
      "outputs": [
        {
          "output_type": "stream",
          "name": "stdout",
          "text": [
            "\n",
            "|   |   |   |\n",
            "|   |   |   |\n",
            "|   |   |   |\n",
            "\n",
            "Your turn player 1\n",
            "Enter your move (1-9): 1\n",
            "\n",
            "| X |   |   |\n",
            "|   |   |   |\n",
            "|   |   |   |\n",
            "\n",
            "Your turn player 2\n",
            "Enter your move (1-9): 2\n",
            "\n",
            "| X | O |   |\n",
            "|   |   |   |\n",
            "|   |   |   |\n",
            "\n",
            "Your turn player 1\n",
            "Enter your move (1-9): 4\n",
            "\n",
            "| X | O |   |\n",
            "| X |   |   |\n",
            "|   |   |   |\n",
            "\n",
            "Your turn player 2\n",
            "Enter your move (1-9): 7\n",
            "\n",
            "| X | O |   |\n",
            "| X |   |   |\n",
            "| O |   |   |\n",
            "\n",
            "Your turn player 1\n",
            "Enter your move (1-9): 3\n",
            "\n",
            "| X | O | X |\n",
            "| X |   |   |\n",
            "| O |   |   |\n",
            "\n",
            "Your turn player 2\n",
            "Enter your move (1-9): 5\n",
            "\n",
            "| X | O | X |\n",
            "| X | O |   |\n",
            "| O |   |   |\n",
            "\n",
            "Your turn player 1\n",
            "Enter your move (1-9): 6\n",
            "\n",
            "| X | O | X |\n",
            "| X | O | X |\n",
            "| O |   |   |\n",
            "\n",
            "Your turn player 2\n",
            "Enter your move (1-9): 9\n",
            "\n",
            "| X | O | X |\n",
            "| X | O | X |\n",
            "| O |   | O |\n",
            "\n",
            "Your turn player 1\n",
            "Enter your move (1-9): 8\n",
            "\n",
            "| X | O | X |\n",
            "| X | O | X |\n",
            "| O | X | O |\n",
            "\n",
            "It's a draw!\n"
          ]
        }
      ],
      "source": [
        "# Tic-Tac-Toe game in Python\n",
        "\n",
        "board = [\" \" for x in range(9)]\n",
        "\n",
        "def print_board():\n",
        "    row1 = \"| {} | {} | {} |\".format(board[0], board[1], board[2])\n",
        "    row2 = \"| {} | {} | {} |\".format(board[3], board[4], board[5])\n",
        "    row3 = \"| {} | {} | {} |\".format(board[6], board[7], board[8])\n",
        "\n",
        "    print()\n",
        "    print(row1)\n",
        "    print(row2)\n",
        "    print(row3)\n",
        "    print()\n",
        "\n",
        "def player_move(icon):\n",
        "    if icon == \"X\":\n",
        "        number = 1\n",
        "    elif icon == \"O\":\n",
        "        number = 2\n",
        "\n",
        "    print(\"Your turn player {}\".format(number))\n",
        "\n",
        "    choice = int(input(\"Enter your move (1-9): \").strip())\n",
        "    if board[choice - 1] == \" \":\n",
        "        board[choice - 1] = icon\n",
        "    else:\n",
        "        print()\n",
        "        print(\"That space is taken!\")\n",
        "\n",
        "def is_victory(icon):\n",
        "    if (board[0] == icon and board[1] == icon and board[2] == icon) or \\\n",
        "       (board[3] == icon and board[4] == icon and board[5] == icon) or \\\n",
        "       (board[6] == icon and board[7] == icon and board[8] == icon) or \\\n",
        "       (board[0] == icon and board[3] == icon and board[6] == icon) or \\\n",
        "       (board[1] == icon and board[4] == icon and board[7] == icon) or \\\n",
        "       (board[2] == icon and board[5] == icon and board[8] == icon) or \\\n",
        "       (board[0] == icon and board[4] == icon and board[8] == icon) or \\\n",
        "       (board[2] == icon and board[4] == icon and board[6] == icon):\n",
        "        return True\n",
        "    else:\n",
        "        return False\n",
        "\n",
        "def is_draw():\n",
        "    if \" \" not in board:\n",
        "        return True\n",
        "    else:\n",
        "        return False\n",
        "\n",
        "while True:\n",
        "    print_board()\n",
        "    player_move(\"X\")\n",
        "    print_board()\n",
        "    if is_victory(\"X\"):\n",
        "        print(\"X wins! Congratulations!\")\n",
        "        break\n",
        "    elif is_draw():\n",
        "        print(\"It's a draw!\")\n",
        "        break\n",
        "    player_move(\"O\")\n",
        "    if is_victory(\"O\"):\n",
        "        print_board()\n",
        "        print(\"O wins! Congratulations!\")\n",
        "        break\n",
        "    elif is_draw():\n",
        "        print(\"It's a draw!\")\n",
        "        break"
      ]
    }
  ]
}